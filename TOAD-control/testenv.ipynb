{
 "cells": [
  {
   "cell_type": "code",
   "execution_count": 1,
   "metadata": {},
   "outputs": [
    {
     "name": "stdout",
     "output_type": "stream",
     "text": [
      "pygame 2.0.1 (SDL 2.0.14, Python 3.7.6)\n",
      "Hello from the pygame community. https://www.pygame.org/contribute.html\n"
     ]
    }
   ],
   "source": [
    "import json, os, sys, pygame, time \n",
    "from IPython.display import display, clear_output"
   ]
  },
  {
   "cell_type": "code",
   "execution_count": 2,
   "metadata": {},
   "outputs": [],
   "source": [
    "pygame.init()\n",
    "\n",
    "joysticks = []\n",
    "for i in range(pygame.joystick.get_count()):\n",
    "    joysticks.append(pygame.joystick.Joystick(i))\n",
    "for joystick in joysticks:\n",
    "    joystick.init()\n",
    "    \n",
    "    \n",
    "with open(os.path.join(\"ps4_keys.json\"), 'r+') as file:\n",
    "    button_keys = json.load(file)\n",
    "    \n",
    "button_keys_list = list(button_keys)\n",
    "    \n",
    "# 0: Left analog horizonal, 1: Left Analog Vertical, 2: Right Analog Horizontal\n",
    "# 3: Right Analog Vertical 4: Left Trigger, 5: Right Trigger\n",
    "analog_keys = {0:0, 1:0, 2:0, 3:0, 4:-1, 5: -1 }"
   ]
  },
  {
   "cell_type": "code",
   "execution_count": 3,
   "metadata": {},
   "outputs": [
    {
     "data": {
      "text/plain": [
       "14"
      ]
     },
     "execution_count": 3,
     "metadata": {},
     "output_type": "execute_result"
    }
   ],
   "source": [
    "joysticks[0].get_numbuttons()"
   ]
  },
  {
   "cell_type": "code",
   "execution_count": 4,
   "metadata": {},
   "outputs": [
    {
     "data": {
      "text/plain": [
       "1"
      ]
     },
     "execution_count": 4,
     "metadata": {},
     "output_type": "execute_result"
    }
   ],
   "source": [
    "joysticks[0].get_numhats()"
   ]
  },
  {
   "cell_type": "code",
   "execution_count": 5,
   "metadata": {},
   "outputs": [
    {
     "name": "stdout",
     "output_type": "stream",
     "text": [
      "end\n"
     ]
    }
   ],
   "source": [
    "run = True\n",
    "\n",
    "while run:\n",
    "    for event in pygame.event.get():\n",
    "        if event.type == pygame.QUIT:\n",
    "            running = False\n",
    "        if event.type == pygame.KEYDOWN:\n",
    "            pass\n",
    "\n",
    "        clear_output(wait=True)\n",
    "        \n",
    "        \n",
    "        # HANDLES BUTTON PRESSES\n",
    "        if event.type == pygame.JOYBUTTONDOWN:\n",
    "            if event.button == button_keys[\"share\"]:\n",
    "                run = False\n",
    "                print(\"end\")\n",
    "        \n",
    "            elif event.button == button_keys[\"PS\"]:\n",
    "                print(\"turn in place\")\n",
    "            elif event.button == button_keys[\"touchpad\"]:\n",
    "                print(\"switch driving mode\")\n",
    "            else:\n",
    "                print(button_keys_list[event.button])\n",
    "\n",
    "            \n",
    "        #HANDLES ANALOG INPUTS\n",
    "        if event.type == pygame.JOYAXISMOTION:\n",
    "            analog_keys[event.axis] = event.value\n",
    "            #print(analog_keys)\n",
    "            \n",
    "            # Horizontal Analog\n",
    "            if abs(analog_keys[0]) > .05:\n",
    "                turn_degree = round(-30 * analog_keys[0], 1)\n",
    "                \n",
    "                if analog_keys[0] < -.075:\n",
    "                    print(\"turn left \", turn_degree, \" degrees\")\n",
    "                elif analog_keys[0] > .075:\n",
    "                    print(\"turn right \", abs(turn_degree), \" degrees\")\n",
    "                else:\n",
    "                    print(\"straight\")\n",
    "                    \n",
    "            # Vertical Analog\n",
    "            if abs(analog_keys[1]) > .4:\n",
    "                if analog_keys[1] < -.7:\n",
    "                    print(\"speed up\")\n",
    "                elif analog_keys[1] > .7:\n",
    "                    print(\"slow down\")\n",
    "                else:\n",
    "                    print(\"stop accel\")\n",
    "                print()\n",
    "            time.sleep(0.4)   "
   ]
  },
  {
   "cell_type": "code",
   "execution_count": null,
   "metadata": {},
   "outputs": [],
   "source": []
  },
  {
   "cell_type": "code",
   "execution_count": null,
   "metadata": {},
   "outputs": [],
   "source": []
  }
 ],
 "metadata": {
  "kernelspec": {
   "display_name": "Python 3",
   "language": "python",
   "name": "python3"
  },
  "language_info": {
   "codemirror_mode": {
    "name": "ipython",
    "version": 3
   },
   "file_extension": ".py",
   "mimetype": "text/x-python",
   "name": "python",
   "nbconvert_exporter": "python",
   "pygments_lexer": "ipython3",
   "version": "3.7.6"
  }
 },
 "nbformat": 4,
 "nbformat_minor": 4
}
